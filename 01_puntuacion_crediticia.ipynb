{
  "nbformat": 4,
  "nbformat_minor": 0,
  "metadata": {
    "colab": {
      "name": "01_puntuacion_crediticia.ipynb",
      "version": "0.3.2",
      "provenance": []
    },
    "kernelspec": {
      "display_name": "Python 3",
      "language": "python",
      "name": "python3"
    }
  },
  "cells": [
    {
      "metadata": {
        "id": "Slw9Jsirr64g",
        "colab_type": "text"
      },
      "cell_type": "markdown",
      "source": [
        "<img style=\"float: center; margin: 0px 0px 15px 15px;\" src=\"https://upload.wikimedia.org/wikipedia/commons/thumb/d/db/Logo_ITESO_normal.jpg/240px-Logo_ITESO_normal.jpg\" width=\"120px\" height=\"145px\" />\n",
        "\n",
        "\n",
        "# Tarea clase 1 Diagnóstico\n",
        "## <font color= #8A0829> Modelos de crédito.</font>\n",
        "- <Strong> Jazmín Calderón Erape </Strong>"
      ]
    },
    {
      "metadata": {
        "id": "yeHsgj6uQl5o",
        "colab_type": "text"
      },
      "cell_type": "markdown",
      "source": [
        "## Programación\n",
        "Escribe codigo o pseudo-codigo para resolver los siguientes problemas:\n",
        "\n",
        "1.- Escribe un programa que pida un numero __n__ al usuario e imprima la suma de los numeros del 1 al __n__.\n"
      ]
    },
    {
      "metadata": {
        "id": "i53yoUJvQl5t",
        "colab_type": "code",
        "colab": {}
      },
      "cell_type": "code",
      "source": [
        "def suma_numeros(num):\n",
        "    suma=0\n",
        "    \n",
        "    for i in range(num + 1):\n",
        "        suma+=i\n",
        "        \n",
        "    \n",
        "    print(\"La suma de los numeros de 1 hasta\",num,\"es\",suma)"
      ],
      "execution_count": 0,
      "outputs": []
    },
    {
      "metadata": {
        "id": "7xF0LxVZQl54",
        "colab_type": "code",
        "outputId": "0ace690b-dc51-4400-a94e-0200038d8ef5",
        "colab": {
          "base_uri": "https://localhost:8080/",
          "height": 51
        }
      },
      "cell_type": "code",
      "source": [
        "num = int(input(\"Introduce un número entero\"))\n",
        "\n",
        "suma_numeros(num)\n"
      ],
      "execution_count": 0,
      "outputs": [
        {
          "output_type": "stream",
          "text": [
            "Introduce un número entero5\n",
            "La suma de los numeros de 1 hasta 5 es 15\n"
          ],
          "name": "stdout"
        }
      ]
    },
    {
      "metadata": {
        "id": "H_Ez0HT0Ql6H",
        "colab_type": "text"
      },
      "cell_type": "markdown",
      "source": [
        "2.- Escribe una funcion que combine dos listas tomando alternadamante elemtos, e.j. [a,b,c], [1,2,3] → [a,1,b,2,c,3]."
      ]
    },
    {
      "metadata": {
        "id": "NR7D_0SOQl6L",
        "colab_type": "code",
        "colab": {}
      },
      "cell_type": "code",
      "source": [
        "#from heapq import merge\n",
        "list1 = ['rosa', 'verde', 'amarillo', 'rojo']\n",
        "list2 = ['2', '4', '6', '8']\n",
        "#list_final = list(merge(list1, list2))\n",
        "#list_final=list1.extend(list2)\n",
        "#print (list_final)\n",
        "\n"
      ],
      "execution_count": 0,
      "outputs": []
    },
    {
      "metadata": {
        "id": "aGSrBkSsQl6U",
        "colab_type": "code",
        "colab": {}
      },
      "cell_type": "code",
      "source": [
        "list3 = []\n",
        "while True:\n",
        "    try:\n",
        "        list3.append(list1.pop(0))\n",
        "        list3.append(list2.pop(0))\n",
        "    except IndexError:\n",
        "        break"
      ],
      "execution_count": 0,
      "outputs": []
    },
    {
      "metadata": {
        "id": "qrB3NJXPQl6d",
        "colab_type": "code",
        "outputId": "6079e647-9c5a-4f5b-e4cd-ed48132926dd",
        "colab": {}
      },
      "cell_type": "code",
      "source": [
        "print(list3)"
      ],
      "execution_count": 0,
      "outputs": [
        {
          "output_type": "stream",
          "text": [
            "['rosa', '2', 'blanco', '4', 'amarillo', '6', 'rojo', '8', '2']\n"
          ],
          "name": "stdout"
        }
      ]
    },
    {
      "metadata": {
        "id": "bnmvB6u12YaM",
        "colab_type": "code",
        "colab": {}
      },
      "cell_type": "code",
      "source": [
        "\n"
      ],
      "execution_count": 0,
      "outputs": []
    },
    {
      "metadata": {
        "id": "v-dQZh_WQl6q",
        "colab_type": "text"
      },
      "cell_type": "markdown",
      "source": [
        "3.- Escriba un programa que escriba todas las formas de colocar + o - entre los numeros 1,2,..., 9 (en este mismo orden) tal que el resultado sea 100. e.j. 1 + 2 + 3 - 4 + 5 + 6 + 78 + 9 = 100."
      ]
    },
    {
      "metadata": {
        "id": "MYUDy0SSvXUY",
        "colab_type": "code",
        "colab": {}
      },
      "cell_type": "code",
      "source": [
        "from itertools import combinations "
      ],
      "execution_count": 0,
      "outputs": []
    },
    {
      "metadata": {
        "id": "xeJp53ArQl6t",
        "colab_type": "code",
        "outputId": "8636ca88-42d0-46f3-9961-753de16acd19",
        "colab": {
          "base_uri": "https://localhost:8080/",
          "height": 34
        }
      },
      "cell_type": "code",
      "source": [
        "list=[1,2,3,4,5,6,7,8,9]\n",
        "print(list)"
      ],
      "execution_count": 0,
      "outputs": [
        {
          "output_type": "stream",
          "text": [
            "[1, 2, 3, 4, 5, 6, 7, 8, 9]\n"
          ],
          "name": "stdout"
        }
      ]
    },
    {
      "metadata": {
        "id": "g3Ii9Pmhw919",
        "colab_type": "code",
        "colab": {}
      },
      "cell_type": "code",
      "source": [
        "suma=0 \n",
        "for x in range (1,10):\n",
        "  suma+=x\n",
        "  if suma < 100:\n",
        "    continue \n",
        "  else:\n",
        "    print(suma)"
      ],
      "execution_count": 0,
      "outputs": []
    },
    {
      "metadata": {
        "id": "SQxUA193Ql63",
        "colab_type": "text"
      },
      "cell_type": "markdown",
      "source": [
        "# Estadística\n",
        "4.- La probabilidad de ganar una medalal de oro de cada miembro de el equipo olimpico Mexicano es de 10%. Cual es la probabilidad de obtener cero medallas de oro por el equipo Mexicano."
      ]
    },
    {
      "metadata": {
        "id": "_QIYxCOu-2ZX",
        "colab_type": "text"
      },
      "cell_type": "markdown",
      "source": [
        "La probabilidad de obtener cero medallas de oro por el equipo Mexicano es de 10%"
      ]
    },
    {
      "metadata": {
        "id": "uBVVGLZrQl7E",
        "colab_type": "text"
      },
      "cell_type": "markdown",
      "source": [
        "Si $P(A) = 0.20$ y $P(B) = 0.51$, donde $P(B|A) = 0.89$.    \n",
        "5.- Cual es $P(A y B)$? Cual es $P(A|B)$?"
      ]
    },
    {
      "metadata": {
        "id": "NweXcEArBR0x",
        "colab_type": "text"
      },
      "cell_type": "markdown",
      "source": [
        "$P(B|A) = P(AyB) / P(A) $.\n",
        "\n",
        "$P(AyB) = P(B|A)  * P(A) $.\n",
        "\n",
        "$P(AyB) = 0.89 * 0.20 = 0.178$\n",
        "\n",
        "$P(A|B) = P(AyB) / P(B) $.\n",
        "\n",
        "$P(A|B) = 0.178/ 0.51 = 0.3491 $.\n",
        "\n"
      ]
    },
    {
      "metadata": {
        "id": "APr3Tu5OQl7j",
        "colab_type": "text"
      },
      "cell_type": "markdown",
      "source": [
        "# Cálculo\n",
        "6.- $\\frac{d}{dx} ( x^2 + e^x )$ "
      ]
    },
    {
      "metadata": {
        "id": "NQhrzQqiEEkS",
        "colab_type": "text"
      },
      "cell_type": "markdown",
      "source": [
        "$2x + e^x $ "
      ]
    },
    {
      "metadata": {
        "id": "PXoQXbD3Ql7v",
        "colab_type": "text"
      },
      "cell_type": "markdown",
      "source": [
        "7.- $\\int_0^1 \\sqrt{ 1 - x^2 }$"
      ]
    },
    {
      "metadata": {
        "id": "F6yxwjxSKoBP",
        "colab_type": "text"
      },
      "cell_type": "markdown",
      "source": [
        "$$Propiedades:$$\n",
        "\n",
        "$$1.-  \\sin(x^2) + \\cos(x^2) = 1 ------->   \\cos(x^2) = 1 - \\sin(x^2) $$\n",
        "\n",
        "$$2.- \\cos(x^2) = \\frac{1}{2}(1+\\cos(2x))$$\n",
        "\n",
        "$$3.- \\sin(2x)  = 2\\sin(2x) * \\cos(2x))$$\n",
        "\n",
        "$$4.- \\cos(\\arcsin(x))=  \\sqrt{ 1 - x^2 }$$"
      ]
    },
    {
      "metadata": {
        "id": "3mA-ShRYNZqg",
        "colab_type": "text"
      },
      "cell_type": "markdown",
      "source": [
        "$ x= \\sin(u)$   $u=\\arcsin(x)$ $dx= \\cos(u) du$"
      ]
    },
    {
      "metadata": {
        "id": "pAO_ffByOwYf",
        "colab_type": "text"
      },
      "cell_type": "markdown",
      "source": [
        "$\\int_0^1 \\sqrt{ 1 - x^2 } = \\int_0^1 \\sqrt{ 1 -  (\\sin(u))^2 } *  \\cos(u)du = \\int_0^1 \\sqrt{ (\\cos(u)^2 } * \\cos(u)du = \\int_0^1 \\cos(u))^2 $\n",
        "\n",
        "$= \\int_0^1 \\frac{1}{2} (1 + \\cos(2u)du = \\frac{1}{2} (\\int_0^1 1du +  \\frac{1}{2} \\int_0^1 2  \\cos(2u)du) = \\frac{1}{2} (u + \\frac{1}{2} \\sin(2u))$\n",
        "\n",
        "$= \\frac{1}{2} (u + \\sin(u) * \\cos(u)) = \\frac{1}{2} (\\arcsin(x) + \\sin(\\arcsin(x)) * \\cos(\\arcsin(x)) ) $\n",
        "\n",
        "$= \\frac{1}{2} (\\arcsin(x) + x* \\sqrt{ 1 - x^2}) $\n",
        "\n",
        "$= \\frac{1}{2} (0) -  \\frac{1}{2} (90) = 45$\n"
      ]
    },
    {
      "metadata": {
        "id": "JKtYyC8CQl78",
        "colab_type": "text"
      },
      "cell_type": "markdown",
      "source": [
        "8.- $\\frac{d}{dx} \\frac{1}{1 + e^{-x}}$"
      ]
    },
    {
      "metadata": {
        "id": "k3iXLhX8bFeB",
        "colab_type": "text"
      },
      "cell_type": "markdown",
      "source": [
        "$u = 1 + e^{-x}$ \n",
        "\n",
        "$du= -e^{-x} dx$"
      ]
    },
    {
      "metadata": {
        "id": "0Jxj22qvbFZ_",
        "colab_type": "text"
      },
      "cell_type": "markdown",
      "source": [
        "= $\\frac{d}{du} \\frac{1}{u}  = - \\frac{1}{u^{2}} =  \\frac{e^{-x}}{1 + e^{-x}} $"
      ]
    },
    {
      "metadata": {
        "id": "4IkVSP3LQl8L",
        "colab_type": "text"
      },
      "cell_type": "markdown",
      "source": [
        "# Puntuación Crediticia"
      ]
    },
    {
      "metadata": {
        "id": "Ox5654OEQl8S",
        "colab_type": "text"
      },
      "cell_type": "markdown",
      "source": [
        "Considere la siguiente solicitud de credito hipotecario: https://www.bancomer.com/fbin/SolCH_tcm1344-487598.pdf\n",
        "\n",
        "9.- Escriba ejemplos de datos solicitados y que __C__(Caracter, Capacidad, Capital, Colateral) intenta determinar."
      ]
    },
    {
      "metadata": {
        "id": "DqGm5hm7lmC8",
        "colab_type": "text"
      },
      "cell_type": "markdown",
      "source": [
        "NOTA** No pude abrir el link de arriba, asi que busque otro ejemplo de credito hipotecario que esta en el siguiente link: https://www.bancomer.com/personas/productos/creditos/credito-hipotecario/hipoteca-bancomer-fija.html#documentacion \n",
        "\n",
        "* **Carácter - del solicitante**\n",
        "<p style=\"text-align: justify;\">   El intermediario financiero en este caso necesita tener la impresión de que es confiable la persona, que tiene el carácter para cumplir las obligaciones para esto son los requisitos como: tener más de 25 años, planear el crédito para que concluya antes de que cumpla 85 años, residir en México, sea extranjero o mexicano. </p>\n",
        "\n",
        "* **Capacidad - de pago**\n",
        "<p style=\"text-align: justify;\">     El banco quiere saber si cuenta con capacidad de pago y para ello investiga cómo es que el solicitante del crédito pretende hacer frente a sus obligaciones, considerando: flujos de efectivo, el calendario de pagos, comprobar antigüedad en su empleo actual o tener buen historial de crédito.</p>\n",
        "  \n",
        "* **Capital - patrimonio neto**\n",
        "<p style=\"text-align: justify;\">      El banco desea verificar que el cliente cuenta con más activos que pasivos y tiene la capacidad de convertir rápidamente sus activos en efectivo de ser necesario. Para esto los requisitos como: ser persona física asalariada, profesionista independiente o con actividad empresarial, carta membretada de la empresa o institución donde labora, donde se especifique su sueldo mensual bruto, otros ingresos, indicando monto, concepto y periodicidad etc.</p>\n",
        "  \n",
        "* **Colateral - como garantía**\n",
        "<p style=\"text-align: justify;\">    Para otorgar un crédito, suele requerirse la entrega de una garantía “colateral”, en forma de bienes muebles o inmuebles, en este tipo de credito para comprar una casa nueva el colateral es la casa misma y los requisitos de la casa a comprar son: estar ubicada en zona urbana o suburbana, tener vida útil igual o superior al plazo del crédito, contar con ciertos servicios como: agua, energía eléctrica, drenaje, pavimentación y contar con un minimo de habitaciones. </p>\n",
        "\n",
        "* **Condiciones - circunstancias externas**\n",
        " <p style=\"text-align: justify;\">    El bano busca determinadas condiciones más allá de su historial financiero podrían contribuir a su capacidad para obtener un crédito. Por ejemplo, si se prevé que una recesión afecte su industria, los prestamistas podrían ser cautelosos respecto de aprobarle un crédito. </p>\n",
        "\n",
        "\n"
      ]
    },
    {
      "metadata": {
        "id": "Fc1tqHQ6Ql8X",
        "colab_type": "code",
        "colab": {}
      },
      "cell_type": "code",
      "source": [
        ""
      ],
      "execution_count": 0,
      "outputs": []
    },
    {
      "metadata": {
        "id": "jaD5XKT0Ql8j",
        "colab_type": "text"
      },
      "cell_type": "markdown",
      "source": [
        "10.- Obtenga su reporte de crédito de Buro de Crédito: https://www.burodecredito.com.mx/ o Círculo de Crédito: https://www.circulodecredito.com.mx/. Por ley puede obtener un reporte gratis cada 12 meses (evite agregar analisis extras que puedan generarle costo). __NO envie su reporte como parte de la tarea__, solo revise la información que contiene."
      ]
    },
    {
      "metadata": {
        "id": "vtIdY6S_Ql8o",
        "colab_type": "text"
      },
      "cell_type": "markdown",
      "source": [
        "Opcional: Credit Reports: Last Week Tonight with John Oliver (HBO) https://www.youtube.com/watch?v=aRrDsbUdY_k"
      ]
    },
    {
      "metadata": {
        "id": "TEp4fJ_zQl8r",
        "colab_type": "code",
        "colab": {}
      },
      "cell_type": "code",
      "source": [
        ""
      ],
      "execution_count": 0,
      "outputs": []
    }
  ]
}